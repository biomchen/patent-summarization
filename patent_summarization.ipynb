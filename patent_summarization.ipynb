{
 "cells": [
  {
   "attachments": {},
   "cell_type": "markdown",
   "metadata": {},
   "source": [
    "## **The Patent Summerization Tools**\n",
    "\n",
    "It uses the google/pegasus-big_patent model from hugginface.  \n",
    "See https://huggingface.co/google/pegasus-big_patent for more details\n",
    "\n",
    "**Update**:   \n",
    "Model card has been removed.  \n",
    "It currently has a fine-tunned model with JAX/Flax.  \n",
    "See https://github.com/google-research/pegasus/tree/main/pegasus/flax   \n",
    "The codes here haven't been updated yet."
   ]
  },
  {
   "attachments": {},
   "cell_type": "markdown",
   "metadata": {},
   "source": [
    "#### Import python libraries"
   ]
  },
  {
   "cell_type": "code",
   "execution_count": 1,
   "metadata": {},
   "outputs": [],
   "source": [
    "import requests\n",
    "from constant import huggin_api_key"
   ]
  },
  {
   "attachments": {},
   "cell_type": "markdown",
   "metadata": {},
   "source": [
    "#### Load the API info and query function"
   ]
  },
  {
   "cell_type": "code",
   "execution_count": 2,
   "metadata": {},
   "outputs": [],
   "source": [
    "API_URL = \"https://api-inference.huggingface.co/models/google/pegasus-big_patent\"\n",
    "api_key_string = f\"Bearer {huggin_api_key}\"\n",
    "headers = {f\"Authorization\": api_key_string}\n",
    "\n",
    "def query(payload):\n",
    "        response = requests.post(API_URL, headers=headers, json=payload)\n",
    "        return response.json()"
   ]
  },
  {
   "attachments": {},
   "cell_type": "markdown",
   "metadata": {},
   "source": [
    "#### Copy and paste the texts to here"
   ]
  },
  {
   "cell_type": "code",
   "execution_count": 5,
   "metadata": {},
   "outputs": [],
   "source": [
    "# example: US Patent Document ID: US 20220396798 A1\n",
    "# Abstract\n",
    "text = 'This invention relates to a novel mRNA composition and its \\\n",
    "    production method useful for developing and manufacturing \\\n",
    "    RNA-based anti-viral and/or anti-cancer vaccines and medicines. \\\n",
    "    This invention includes two types of mRNA constructs, namely \\\n",
    "    “5′-hairpin messenger RNA (5hmRNA)” and “messenger-hairpin-messenger \\\n",
    "    RNA (mhmRNA)”, respectively. Both of 5hmRNA and mhmRNA contain at \\\n",
    "    least a hairpin-like stem-loop RNA structure. The 5hmRNA contains \\\n",
    "    at least a stem-loop RNA structure in the 5′-UTR of a \\\n",
    "    protein/peptide-coding mRNA, while the mhmRNA contains a middle \\\n",
    "    stem-loop structure flanked with two protein/peptide-coding mRNA \\\n",
    "    sequences on both sides. In mhmRNA, the first 5′-mRNA preferably \\\n",
    "    encodes an RNA replicase, for amplifying the second 3′-mRNA in \\\n",
    "    transfected cells. After transfection into target cells, 5hmRNA \\\n",
    "    and mhmRNA can be further translated into at least a desired \\\n",
    "    protein/peptide. To produce highly structured 5hmRNA and mhmRNA, \\\n",
    "    a novel PCR-IVT methodology has been developed and used with a \\\n",
    "    specially designed RNA polymerase-helicase mixture reaction'"
   ]
  },
  {
   "attachments": {},
   "cell_type": "markdown",
   "metadata": {},
   "source": [
    "#### Get the results"
   ]
  },
  {
   "cell_type": "code",
   "execution_count": 6,
   "metadata": {},
   "outputs": [
    {
     "name": "stdout",
     "output_type": "stream",
     "text": [
      "This invention relates to a novel DNA composition and its production method useful for developing and manufacturing RNA-based anti-viral and/or anti-cancer vaccines and medicines.\n"
     ]
    }
   ],
   "source": [
    "results = query({\n",
    "    \"inputs\" : text,\n",
    "})\n",
    "if 'error' in results:\n",
    "    print(results['error'])\n",
    "else:\n",
    "    print(results[0]['generated_text'])"
   ]
  },
  {
   "cell_type": "code",
   "execution_count": null,
   "metadata": {},
   "outputs": [],
   "source": []
  }
 ],
 "metadata": {
  "kernelspec": {
   "display_name": "base",
   "language": "python",
   "name": "python3"
  },
  "language_info": {
   "codemirror_mode": {
    "name": "ipython",
    "version": 3
   },
   "file_extension": ".py",
   "mimetype": "text/x-python",
   "name": "python",
   "nbconvert_exporter": "python",
   "pygments_lexer": "ipython3",
   "version": "3.7.11"
  },
  "orig_nbformat": 4,
  "vscode": {
   "interpreter": {
    "hash": "af0933064dfea424fbc82885e6d195a7df7690b89bf91042fb7927b56ebee5df"
   }
  }
 },
 "nbformat": 4,
 "nbformat_minor": 2
}
